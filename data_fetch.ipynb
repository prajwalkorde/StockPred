{
 "cells": [
  {
   "cell_type": "code",
   "execution_count": 25,
   "id": "b2edc2fb-93a1-4cbd-b078-390fffca7c4b",
   "metadata": {},
   "outputs": [
    {
     "name": "stderr",
     "output_type": "stream",
     "text": [
      "[*********************100%***********************]  1 of 1 completed\n",
      "[*********************100%***********************]  1 of 1 completed"
     ]
    },
    {
     "name": "stdout",
     "output_type": "stream",
     "text": [
      "Saved new data for Adani Enterprises from 1970-07-11 to 2025-04-13.\n"
     ]
    },
    {
     "name": "stderr",
     "output_type": "stream",
     "text": [
      "\n",
      "[*********************100%***********************]  1 of 1 completed"
     ]
    },
    {
     "name": "stdout",
     "output_type": "stream",
     "text": [
      "Saved new data for Asian Paints from 1970-07-11 to 2025-04-13.\n"
     ]
    },
    {
     "name": "stderr",
     "output_type": "stream",
     "text": [
      "\n",
      "[*********************100%***********************]  1 of 1 completed"
     ]
    },
    {
     "name": "stdout",
     "output_type": "stream",
     "text": [
      "Saved new data for Axis Bank from 1970-07-11 to 2025-04-13.\n",
      "Saved new data for Bajaj Finance from 1970-07-11 to 2025-04-13.\n"
     ]
    },
    {
     "name": "stderr",
     "output_type": "stream",
     "text": [
      "\n",
      "[*********************100%***********************]  1 of 1 completed\n",
      "[*********************100%***********************]  1 of 1 completed"
     ]
    },
    {
     "name": "stdout",
     "output_type": "stream",
     "text": [
      "Saved new data for Bharat Petroleum from 1970-07-11 to 2025-04-13.\n"
     ]
    },
    {
     "name": "stderr",
     "output_type": "stream",
     "text": [
      "\n",
      "[*********************100%***********************]  1 of 1 completed"
     ]
    },
    {
     "name": "stdout",
     "output_type": "stream",
     "text": [
      "Saved new data for Bharti Airtel from 1970-07-11 to 2025-04-13.\n"
     ]
    },
    {
     "name": "stderr",
     "output_type": "stream",
     "text": [
      "\n",
      "[*********************100%***********************]  1 of 1 completed"
     ]
    },
    {
     "name": "stdout",
     "output_type": "stream",
     "text": [
      "Saved new data for Britannia from 1970-07-11 to 2025-04-13.\n"
     ]
    },
    {
     "name": "stderr",
     "output_type": "stream",
     "text": [
      "\n",
      "[*********************100%***********************]  1 of 1 completed"
     ]
    },
    {
     "name": "stdout",
     "output_type": "stream",
     "text": [
      "Saved new data for Cipla from 1970-07-11 to 2025-04-13.\n",
      "Saved new data for Coal India from 1970-07-11 to 2025-04-13.\n"
     ]
    },
    {
     "name": "stderr",
     "output_type": "stream",
     "text": [
      "\n",
      "[*********************100%***********************]  1 of 1 completed\n",
      "[*********************100%***********************]  1 of 1 completed"
     ]
    },
    {
     "name": "stdout",
     "output_type": "stream",
     "text": [
      "Saved new data for Divi's Laboratories from 1970-07-11 to 2025-04-13.\n"
     ]
    },
    {
     "name": "stderr",
     "output_type": "stream",
     "text": [
      "\n",
      "[*********************100%***********************]  1 of 1 completed"
     ]
    },
    {
     "name": "stdout",
     "output_type": "stream",
     "text": [
      "Saved new data for Dr. Reddy's Laboratories from 1970-07-11 to 2025-04-13.\n"
     ]
    },
    {
     "name": "stderr",
     "output_type": "stream",
     "text": [
      "\n",
      "[*********************100%***********************]  1 of 1 completed"
     ]
    },
    {
     "name": "stdout",
     "output_type": "stream",
     "text": [
      "Saved new data for Eicher Motors from 1970-07-11 to 2025-04-13.\n"
     ]
    },
    {
     "name": "stderr",
     "output_type": "stream",
     "text": [
      "\n",
      "[*********************100%***********************]  1 of 1 completed"
     ]
    },
    {
     "name": "stdout",
     "output_type": "stream",
     "text": [
      "Saved new data for Grasim Industries from 1970-07-11 to 2025-04-13.\n"
     ]
    },
    {
     "name": "stderr",
     "output_type": "stream",
     "text": [
      "\n",
      "[*********************100%***********************]  1 of 1 completed"
     ]
    },
    {
     "name": "stdout",
     "output_type": "stream",
     "text": [
      "Saved new data for HCL Technologies from 1970-07-11 to 2025-04-13.\n"
     ]
    },
    {
     "name": "stderr",
     "output_type": "stream",
     "text": [
      "\n",
      "[*********************100%***********************]  1 of 1 completed"
     ]
    },
    {
     "name": "stdout",
     "output_type": "stream",
     "text": [
      "Saved new data for HDFC Bank from 1970-07-11 to 2025-04-13.\n",
      "Saved new data for Hero MotoCorp from 1970-07-11 to 2025-04-13.\n"
     ]
    },
    {
     "name": "stderr",
     "output_type": "stream",
     "text": [
      "\n",
      "[*********************100%***********************]  1 of 1 completed\n",
      "[*********************100%***********************]  1 of 1 completed"
     ]
    },
    {
     "name": "stdout",
     "output_type": "stream",
     "text": [
      "Saved new data for Hindalco from 1970-07-11 to 2025-04-13.\n"
     ]
    },
    {
     "name": "stderr",
     "output_type": "stream",
     "text": [
      "\n",
      "[*********************100%***********************]  1 of 1 completed"
     ]
    },
    {
     "name": "stdout",
     "output_type": "stream",
     "text": [
      "Saved new data for Hindustan Unilever from 1970-07-11 to 2025-04-13.\n",
      "Saved new data for ICICI Bank from 1970-07-11 to 2025-04-13.\n"
     ]
    },
    {
     "name": "stderr",
     "output_type": "stream",
     "text": [
      "\n",
      "[*********************100%***********************]  1 of 1 completed\n",
      "[*********************100%***********************]  1 of 1 completed"
     ]
    },
    {
     "name": "stdout",
     "output_type": "stream",
     "text": [
      "Saved new data for IndusInd Bank from 1970-07-11 to 2025-04-13.\n"
     ]
    },
    {
     "name": "stderr",
     "output_type": "stream",
     "text": [
      "\n",
      "[*********************100%***********************]  1 of 1 completed"
     ]
    },
    {
     "name": "stdout",
     "output_type": "stream",
     "text": [
      "Saved new data for Infosys from 1970-07-11 to 2025-04-13.\n"
     ]
    },
    {
     "name": "stderr",
     "output_type": "stream",
     "text": [
      "\n",
      "[*********************100%***********************]  1 of 1 completed"
     ]
    },
    {
     "name": "stdout",
     "output_type": "stream",
     "text": [
      "Saved new data for ITC from 1970-07-11 to 2025-04-13.\n"
     ]
    },
    {
     "name": "stderr",
     "output_type": "stream",
     "text": [
      "\n",
      "[*********************100%***********************]  1 of 1 completed"
     ]
    },
    {
     "name": "stdout",
     "output_type": "stream",
     "text": [
      "Saved new data for JSW Steel from 1970-07-11 to 2025-04-13.\n"
     ]
    },
    {
     "name": "stderr",
     "output_type": "stream",
     "text": [
      "\n",
      "[*********************100%***********************]  1 of 1 completed"
     ]
    },
    {
     "name": "stdout",
     "output_type": "stream",
     "text": [
      "Saved new data for Kotak Mahindra Bank from 1970-07-11 to 2025-04-13.\n"
     ]
    },
    {
     "name": "stderr",
     "output_type": "stream",
     "text": [
      "\n",
      "[*********************100%***********************]  1 of 1 completed"
     ]
    },
    {
     "name": "stdout",
     "output_type": "stream",
     "text": [
      "Saved new data for Larsen & Toubro from 1970-07-11 to 2025-04-13.\n"
     ]
    },
    {
     "name": "stderr",
     "output_type": "stream",
     "text": [
      "\n",
      "[*********************100%***********************]  1 of 1 completed"
     ]
    },
    {
     "name": "stdout",
     "output_type": "stream",
     "text": [
      "Saved new data for Mahindra & Mahindra from 1970-07-11 to 2025-04-13.\n",
      "Saved new data for Maruti Suzuki from 1970-07-11 to 2025-04-13.\n"
     ]
    },
    {
     "name": "stderr",
     "output_type": "stream",
     "text": [
      "\n",
      "[*********************100%***********************]  1 of 1 completed\n",
      "[*********************100%***********************]  1 of 1 completed"
     ]
    },
    {
     "name": "stdout",
     "output_type": "stream",
     "text": [
      "Saved new data for Nestle India from 1970-07-11 to 2025-04-13.\n",
      "Saved new data for NTPC from 1970-07-11 to 2025-04-13.\n"
     ]
    },
    {
     "name": "stderr",
     "output_type": "stream",
     "text": [
      "\n",
      "[*********************100%***********************]  1 of 1 completed\n",
      "[*********************100%***********************]  1 of 1 completed"
     ]
    },
    {
     "name": "stdout",
     "output_type": "stream",
     "text": [
      "Saved new data for Oil and Natural Gas Corporation from 1970-07-11 to 2025-04-13.\n",
      "Saved new data for Power Grid Corporation from 1970-07-11 to 2025-04-13.\n"
     ]
    },
    {
     "name": "stderr",
     "output_type": "stream",
     "text": [
      "\n",
      "[*********************100%***********************]  1 of 1 completed\n",
      "[*********************100%***********************]  1 of 1 completed"
     ]
    },
    {
     "name": "stdout",
     "output_type": "stream",
     "text": [
      "Saved new data for Reliance Industries from 1970-07-11 to 2025-04-13.\n"
     ]
    },
    {
     "name": "stderr",
     "output_type": "stream",
     "text": [
      "\n",
      "[*********************100%***********************]  1 of 1 completed"
     ]
    },
    {
     "name": "stdout",
     "output_type": "stream",
     "text": [
      "Saved new data for State Bank of India from 1970-07-11 to 2025-04-13.\n",
      "Saved new data for Shree Cement from 1970-07-11 to 2025-04-13.\n"
     ]
    },
    {
     "name": "stderr",
     "output_type": "stream",
     "text": [
      "\n",
      "[*********************100%***********************]  1 of 1 completed\n",
      "[*********************100%***********************]  1 of 1 completed"
     ]
    },
    {
     "name": "stdout",
     "output_type": "stream",
     "text": [
      "Saved new data for Sun Pharmaceutical from 1970-07-11 to 2025-04-13.\n"
     ]
    },
    {
     "name": "stderr",
     "output_type": "stream",
     "text": [
      "\n",
      "[*********************100%***********************]  1 of 1 completed"
     ]
    },
    {
     "name": "stdout",
     "output_type": "stream",
     "text": [
      "Saved new data for Tata Consultancy Services from 1970-07-11 to 2025-04-13.\n"
     ]
    },
    {
     "name": "stderr",
     "output_type": "stream",
     "text": [
      "\n",
      "[*********************100%***********************]  1 of 1 completed"
     ]
    },
    {
     "name": "stdout",
     "output_type": "stream",
     "text": [
      "Saved new data for Tata Motors from 1970-07-11 to 2025-04-13.\n"
     ]
    },
    {
     "name": "stderr",
     "output_type": "stream",
     "text": [
      "\n",
      "[*********************100%***********************]  1 of 1 completed"
     ]
    },
    {
     "name": "stdout",
     "output_type": "stream",
     "text": [
      "Saved new data for Tata Steel from 1970-07-11 to 2025-04-13.\n",
      "Saved new data for Tech Mahindra from 1970-07-11 to 2025-04-13.\n"
     ]
    },
    {
     "name": "stderr",
     "output_type": "stream",
     "text": [
      "\n",
      "[*********************100%***********************]  1 of 1 completed\n",
      "[*********************100%***********************]  1 of 1 completed"
     ]
    },
    {
     "name": "stdout",
     "output_type": "stream",
     "text": [
      "Saved new data for Titan Company from 1970-07-11 to 2025-04-13.\n"
     ]
    },
    {
     "name": "stderr",
     "output_type": "stream",
     "text": [
      "\n",
      "[*********************100%***********************]  1 of 1 completed"
     ]
    },
    {
     "name": "stdout",
     "output_type": "stream",
     "text": [
      "Saved new data for UltraTech Cement from 1970-07-11 to 2025-04-13.\n"
     ]
    },
    {
     "name": "stderr",
     "output_type": "stream",
     "text": [
      "\n",
      "[*********************100%***********************]  1 of 1 completed"
     ]
    },
    {
     "name": "stdout",
     "output_type": "stream",
     "text": [
      "Saved new data for UPL from 1970-07-11 to 2025-04-13.\n",
      "Saved new data for Wipro from 1970-07-11 to 2025-04-13.\n"
     ]
    },
    {
     "name": "stderr",
     "output_type": "stream",
     "text": [
      "\n"
     ]
    }
   ],
   "source": [
    "import os\n",
    "import configparser\n",
    "import yfinance as yf\n",
    "import pandas as pd\n",
    "from datetime import datetime, timedelta\n",
    "from utils import nifty50_companies\n",
    "\n",
    "config = configparser.ConfigParser()\n",
    "config.read(\"config.ini\")\n",
    "\n",
    "no_of_data_days = int(config['data']['no_of_data_days'])\n",
    "\n",
    "def fetch_and_append_data(company, ticker):\n",
    "    filename = f\"data/{ticker}.csv\"\n",
    "    \n",
    "    end_date = datetime.today().date()\n",
    "    start_date = end_date - timedelta(days=no_of_data_days)\n",
    "\n",
    "    if os.path.exists(filename):\n",
    "        existing_data = pd.read_csv(filename, parse_dates=['Date'])\n",
    "        last_date = existing_data['Date'].max().date()\n",
    "        start_date = last_date + timedelta(days=1)\n",
    "\n",
    "    stock_data = yf.download(ticker, start=start_date, end=end_date)\n",
    "\n",
    "    if not stock_data.empty:\n",
    "        stock_data.reset_index(inplace=True)  # Makes 'Date' a column\n",
    "\n",
    "        if os.path.exists(filename):\n",
    "            existing_data = pd.read_csv(filename, parse_dates=['Date'])\n",
    "            combined = pd.concat([existing_data, stock_data], ignore_index=True)\n",
    "            combined.drop_duplicates(subset='Date', keep='last', inplace=True)\n",
    "            combined.to_csv(filename, index=False)\n",
    "            print(f\"Updated data for {company}.\")\n",
    "        else:\n",
    "            stock_data.to_csv(filename, index=False)\n",
    "            print(f\"Saved new data for {company} from {start_date} to {end_date}.\")\n",
    "    else:\n",
    "        print(f\"No new data available for {company}.\")\n",
    "\n",
    "for company, ticker in nifty50_companies.items():\n",
    "    fetch_and_append_data(company, ticker)"
   ]
  },
  {
   "cell_type": "code",
   "execution_count": null,
   "id": "f1feee06-7385-4843-b755-f85735d6f21c",
   "metadata": {},
   "outputs": [],
   "source": []
  }
 ],
 "metadata": {
  "kernelspec": {
   "display_name": "Python 3 (ipykernel)",
   "language": "python",
   "name": "python3"
  },
  "language_info": {
   "codemirror_mode": {
    "name": "ipython",
    "version": 3
   },
   "file_extension": ".py",
   "mimetype": "text/x-python",
   "name": "python",
   "nbconvert_exporter": "python",
   "pygments_lexer": "ipython3",
   "version": "3.12.6"
  }
 },
 "nbformat": 4,
 "nbformat_minor": 5
}
